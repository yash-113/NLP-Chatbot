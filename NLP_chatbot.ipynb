{
  "nbformat": 4,
  "nbformat_minor": 0,
  "metadata": {
    "colab": {
      "provenance": []
    },
    "kernelspec": {
      "name": "python3",
      "display_name": "Python 3"
    },
    "language_info": {
      "name": "python"
    }
  },
  "cells": [
    {
      "cell_type": "code",
      "execution_count": 1,
      "metadata": {
        "id": "QbtWhudbOOjm"
      },
      "outputs": [],
      "source": [
        "#import libraries\n",
        "import numpy as np\n",
        "import nltk\n",
        "import string\n",
        "import random"
      ]
    },
    {
      "cell_type": "code",
      "source": [
        "# Open and read the file\n",
        "f = open('/content/interview_data.txt','r',errors = 'ignore')\n",
        "raw_doc = f.read()"
      ],
      "metadata": {
        "id": "sn1qWjXkPMzH"
      },
      "execution_count": 2,
      "outputs": []
    },
    {
      "cell_type": "code",
      "source": [
        "raw_doc"
      ],
      "metadata": {
        "colab": {
          "base_uri": "https://localhost:8080/",
          "height": 174
        },
        "id": "pe-Omu0e05pY",
        "outputId": "95d5031c-95a8-4708-cda4-daafe53e2c6b"
      },
      "execution_count": 3,
      "outputs": [
        {
          "output_type": "execute_result",
          "data": {
            "text/plain": [
              "' Could you tell me about yourself and describe your background in brief?\\n\\n“I come from a small town, where opportunities were limited. Since good schools were a rarity, I started using online learning to stay up to date with the best. That’s where I learned to code and then I went on to get my certification as a computer programmer. After I got my first job as a front-end coder, I continued to invest time in mastering both front- and back-end languages, tools, and frameworks.”\\n\\nHow did you hear about this position?\\n\\nI learned about the position through LinkedIn as I’ve been following your company’s page for a while now. I’m really passionate about the work you’re doing in X, Y, and Z areas, so I was excited to apply. The required skills match well with the skills I have, and it seems like a great opportunity for me to contribute to your mission, as well as a great next move for my career.”\\n\\nWhat type of work environment do you prefer?\\n\\nThat sounds great to me. I like fast-paced work environments because they make me feel like I’m always learning and growing, but I really thrive when I’m collaborating with team members and helping people reach a collective goal as opposed to competing. My last internship was at an organization with a similar culture, and I really enjoyed that balance.”\\n\\nHow do you deal with pressure or stressful situations?\\n\\nI realize stressful situation are always going to come up, and I definitely have had to learn how to navigate them throughout my career. I think I get better at it with every new experience. While working on a new product launch at my last company, for example, things were not going according to plan with my team. Instead of pointing fingers, my first reaction was to take a step back and figure out some strategies around how we could we solve the problem at hand. Previously, I may have defaulted to panicking in that situation, so being calm and collected was definitely a step forward and helped me approach the situation with more clarity\\n\\nDo you prefer working independently or on a team?\\n\\nI enjoy a blend of the two. I like having a team to strategize with, get diverse opinions from, and reach out to for feedback. But I am also comfortable taking on assignments that require me to work independently. I find I do some of my best work when I can focus alone in a quiet space, but I really value collaborating with my teammates to come up with the best ideas.\\n\\nWhen you’re balancing multiple projects, how do you keep yourself organized?\\n\\nI’m used to juggling projects at my current job where I’m often moving between coding one software program to another. I use the timeboxing technique to make sure they’re all on track, allocating time on my calendar for certain tasks. I’ve found it really helps me prioritize what needs to get done first, and it holds me accountable for the more repetitive day-to-day tasks I’m responsible for.\\n\\nWhat did you do in the last year to improve your knowledge?\\n\\nThe extra time on my plate really allowed me to get introspective around where I want to take my career. I read a lot of journals to keep abreast of the latest ideas in my field, and sharpened my skills by taking some online courses, such as…” (and then be specific).\\n\\n\\nWhat are your salary expectations?\\n\\nBased on my skills and experience and on the current industry rates, I’m looking at a salary around $____” (then fill in with your desired salary range and rationale).\\n\\n\\nAre you applying for other jobs?\\n\\nFrom your resume it seems you took a gap year. Would you like to tell us why that was?\\n\\nDuring my last year of high school, I didn’t feel ready to choose my educational path, so I took a wilderness course for a few months to sort out my life goals. It may seem a little random, but the time I spent actually helped my develop so many new skills — in the areas of leadership, communication, (etc…). During that time, I realized that I wanted to earn a degree in (state your degree) to align with my passion.\\n\\n'"
            ],
            "application/vnd.google.colaboratory.intrinsic+json": {
              "type": "string"
            }
          },
          "metadata": {},
          "execution_count": 3
        }
      ]
    },
    {
      "cell_type": "code",
      "source": [
        "#converting entire data to lowercase\n",
        "raw_doc = raw_doc.lower()\n",
        "#use the punkt\n",
        "nltk.download('punkt')\n",
        "nltk.download('wordnet')\n",
        "nltk.download('omw-1.4')\n",
        "\n",
        "# Tokenize sentences and words\n",
        "sentence_tokens = nltk.sent_tokenize(raw_doc)\n",
        "word_tokens = nltk.word_tokenize(raw_doc)\n"
      ],
      "metadata": {
        "colab": {
          "base_uri": "https://localhost:8080/"
        },
        "id": "NgHz5W6LPZH_",
        "outputId": "7268dfe5-e32e-46fd-a76d-18f19b2f5d7a"
      },
      "execution_count": 4,
      "outputs": [
        {
          "output_type": "stream",
          "name": "stderr",
          "text": [
            "[nltk_data] Downloading package punkt to /root/nltk_data...\n",
            "[nltk_data]   Unzipping tokenizers/punkt.zip.\n",
            "[nltk_data] Downloading package wordnet to /root/nltk_data...\n",
            "[nltk_data] Downloading package omw-1.4 to /root/nltk_data...\n"
          ]
        }
      ]
    },
    {
      "cell_type": "code",
      "source": [
        "raw_doc"
      ],
      "metadata": {
        "colab": {
          "base_uri": "https://localhost:8080/",
          "height": 174
        },
        "id": "SmbZaRE22ExD",
        "outputId": "9708e7ee-e761-461b-c054-8fcab37871e0"
      },
      "execution_count": 6,
      "outputs": [
        {
          "output_type": "execute_result",
          "data": {
            "text/plain": [
              "' could you tell me about yourself and describe your background in brief?\\n\\n“i come from a small town, where opportunities were limited. since good schools were a rarity, i started using online learning to stay up to date with the best. that’s where i learned to code and then i went on to get my certification as a computer programmer. after i got my first job as a front-end coder, i continued to invest time in mastering both front- and back-end languages, tools, and frameworks.”\\n\\nhow did you hear about this position?\\n\\ni learned about the position through linkedin as i’ve been following your company’s page for a while now. i’m really passionate about the work you’re doing in x, y, and z areas, so i was excited to apply. the required skills match well with the skills i have, and it seems like a great opportunity for me to contribute to your mission, as well as a great next move for my career.”\\n\\nwhat type of work environment do you prefer?\\n\\nthat sounds great to me. i like fast-paced work environments because they make me feel like i’m always learning and growing, but i really thrive when i’m collaborating with team members and helping people reach a collective goal as opposed to competing. my last internship was at an organization with a similar culture, and i really enjoyed that balance.”\\n\\nhow do you deal with pressure or stressful situations?\\n\\ni realize stressful situation are always going to come up, and i definitely have had to learn how to navigate them throughout my career. i think i get better at it with every new experience. while working on a new product launch at my last company, for example, things were not going according to plan with my team. instead of pointing fingers, my first reaction was to take a step back and figure out some strategies around how we could we solve the problem at hand. previously, i may have defaulted to panicking in that situation, so being calm and collected was definitely a step forward and helped me approach the situation with more clarity\\n\\ndo you prefer working independently or on a team?\\n\\ni enjoy a blend of the two. i like having a team to strategize with, get diverse opinions from, and reach out to for feedback. but i am also comfortable taking on assignments that require me to work independently. i find i do some of my best work when i can focus alone in a quiet space, but i really value collaborating with my teammates to come up with the best ideas.\\n\\nwhen you’re balancing multiple projects, how do you keep yourself organized?\\n\\ni’m used to juggling projects at my current job where i’m often moving between coding one software program to another. i use the timeboxing technique to make sure they’re all on track, allocating time on my calendar for certain tasks. i’ve found it really helps me prioritize what needs to get done first, and it holds me accountable for the more repetitive day-to-day tasks i’m responsible for.\\n\\nwhat did you do in the last year to improve your knowledge?\\n\\nthe extra time on my plate really allowed me to get introspective around where i want to take my career. i read a lot of journals to keep abreast of the latest ideas in my field, and sharpened my skills by taking some online courses, such as…” (and then be specific).\\n\\n\\nwhat are your salary expectations?\\n\\nbased on my skills and experience and on the current industry rates, i’m looking at a salary around $____” (then fill in with your desired salary range and rationale).\\n\\n\\nare you applying for other jobs?\\n\\nfrom your resume it seems you took a gap year. would you like to tell us why that was?\\n\\nduring my last year of high school, i didn’t feel ready to choose my educational path, so i took a wilderness course for a few months to sort out my life goals. it may seem a little random, but the time i spent actually helped my develop so many new skills — in the areas of leadership, communication, (etc…). during that time, i realized that i wanted to earn a degree in (state your degree) to align with my passion.\\n\\n'"
            ],
            "application/vnd.google.colaboratory.intrinsic+json": {
              "type": "string"
            }
          },
          "metadata": {},
          "execution_count": 6
        }
      ]
    },
    {
      "cell_type": "code",
      "source": [
        "sentence_tokens[:5]"
      ],
      "metadata": {
        "colab": {
          "base_uri": "https://localhost:8080/"
        },
        "id": "PpNhCG36P_hx",
        "outputId": "046d91fd-5f64-4f3e-94f1-e8e94dd83076"
      },
      "execution_count": 5,
      "outputs": [
        {
          "output_type": "execute_result",
          "data": {
            "text/plain": [
              "[' could you tell me about yourself and describe your background in brief?',\n",
              " '“i come from a small town, where opportunities were limited.',\n",
              " 'since good schools were a rarity, i started using online learning to stay up to date with the best.',\n",
              " 'that’s where i learned to code and then i went on to get my certification as a computer programmer.',\n",
              " 'after i got my first job as a front-end coder, i continued to invest time in mastering both front- and back-end languages, tools, and frameworks.”\\n\\nhow did you hear about this position?']"
            ]
          },
          "metadata": {},
          "execution_count": 5
        }
      ]
    },
    {
      "cell_type": "code",
      "source": [
        "word_tokens[:5]"
      ],
      "metadata": {
        "colab": {
          "base_uri": "https://localhost:8080/"
        },
        "id": "OtWTnR4EQSnI",
        "outputId": "6a0f734f-c3ac-44c0-b804-ccfc3ac629f7"
      },
      "execution_count": 7,
      "outputs": [
        {
          "output_type": "execute_result",
          "data": {
            "text/plain": [
              "['could', 'you', 'tell', 'me', 'about']"
            ]
          },
          "metadata": {},
          "execution_count": 7
        }
      ]
    },
    {
      "cell_type": "markdown",
      "source": [
        "### Text preprocessing"
      ],
      "metadata": {
        "id": "Puix8FRkQdtd"
      }
    },
    {
      "cell_type": "code",
      "source": [
        "lemmer = nltk.stem.WordNetLemmatizer()\n",
        "def LemTokens(tokens):\n",
        "  return [lemmer.lemmatize(token) for token in tokens]\n",
        "# Create a dictionary to remove punctuation\n",
        "remove_punct_dict = dict((ord(punct),None)for punct in string.punctuation)\n",
        "def LemNormalize(text):\n",
        "  return LemTokens(nltk.word_tokenize(text.lower().translate(remove_punct_dict)))"
      ],
      "metadata": {
        "id": "71eM0N0BQa4z"
      },
      "execution_count": 8,
      "outputs": []
    },
    {
      "cell_type": "markdown",
      "source": [
        "### Define greeting functions"
      ],
      "metadata": {
        "id": "JT8IZl2yRUCs"
      }
    },
    {
      "cell_type": "code",
      "source": [
        "greet_inputs = ('hello','hi','whtsup','How are you')\n",
        "greet_responses = ('hi','Hey','Hey there!')\n",
        "def greet(sentence):\n",
        "  for word in sentence.split():\n",
        "    if word.lower() in greet_inputs:\n",
        "      return random.choice(greet_responses)\n"
      ],
      "metadata": {
        "id": "tSCTTVqfRWzz"
      },
      "execution_count": 9,
      "outputs": []
    },
    {
      "cell_type": "markdown",
      "source": [
        "### Response generation by the Bot"
      ],
      "metadata": {
        "id": "OKBv3GUoR9i1"
      }
    },
    {
      "cell_type": "code",
      "source": [
        "from sklearn.feature_extraction.text import TfidfVectorizer\n",
        "from sklearn.metrics.pairwise import cosine_similarity\n"
      ],
      "metadata": {
        "id": "hoQveyQWR7Oh"
      },
      "execution_count": 10,
      "outputs": []
    },
    {
      "cell_type": "code",
      "source": [
        "def response(user_response):\n",
        "  robo1_response = ''\n",
        "  TfidfVec = TfidfVectorizer(tokenizer = LemNormalize,stop_words = 'english')\n",
        "  tfidf = TfidfVec.fit_transform(sentence_tokens)\n",
        "  vals = cosine_similarity(tfidf[-1],tfidf)\n",
        "  idx = vals.argsort()[0][-2]\n",
        "  flat = vals.flatten()\n",
        "  flat.sort()\n",
        "  req_tfidf = flat[-2]\n",
        "  if(req_tfidf == 0):\n",
        "    robo1_response = robo1_response + \"I am sorry! I don't understand you\"\n",
        "    return robo1_response\n",
        "  else:\n",
        "    robo1_response = robo1_response + sentence_tokens[idx]\n",
        "    return robo1_response"
      ],
      "metadata": {
        "id": "R3TYm-O_STZy"
      },
      "execution_count": 11,
      "outputs": []
    },
    {
      "cell_type": "markdown",
      "source": [
        "### Defining the chatflow"
      ],
      "metadata": {
        "id": "UK7WMxCZTvHb"
      }
    },
    {
      "cell_type": "code",
      "source": [
        "#chatbot loop\n",
        "flag = True\n",
        "print(\"Hello! Iam l learning Bot. Start typing text after greeting to talk to me. For ending convo type Bye\")\n",
        "while (flag==True):\n",
        "  user_response = input()\n",
        "  user_response = user_response.lower()\n",
        "  if(user_response != 'bye'):\n",
        "    if(user_response == 'thanks' or user_response == 'thank you'):\n",
        "      flag == False\n",
        "      print('Bot You are welcome')\n",
        "    else:\n",
        "      if (greet(user_response) != None):\n",
        "        print('Bot' + greet(user_response))\n",
        "      else:\n",
        "        sentence_tokens.append(user_response)\n",
        "        word_tokens = word_tokens + nltk.word_tokenize(user_response)\n",
        "        final_words = list(set(word_tokens))\n",
        "        print('Bot:',end='')\n",
        "        print(response(user_response))\n",
        "        sentence_tokens.remove(user_response)\n",
        "  else:\n",
        "      flag = False\n",
        "      print('Bot: GoodBye!')\n",
        "\n"
      ],
      "metadata": {
        "colab": {
          "base_uri": "https://localhost:8080/"
        },
        "id": "GFsQYPyTTq_k",
        "outputId": "05a06fc6-543f-45a2-cd09-90cbc92b58b3"
      },
      "execution_count": 13,
      "outputs": [
        {
          "output_type": "stream",
          "name": "stdout",
          "text": [
            "Hello! Iam the Retreival learning Bot. Start typing text after greeting to talk to me. For ending convo type Bye\n",
            "What are your salary expectations?\n",
            "Bot:what are your salary expectations?\n",
            "bye\n",
            "Bot: GoodBye!\n"
          ]
        }
      ]
    }
  ]
}